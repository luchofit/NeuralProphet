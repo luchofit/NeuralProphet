{
 "cells": [
  {
   "cell_type": "markdown",
   "metadata": {},
   "source": [
    "### Neural Prophet\n",
    "\n",
    "Tal cual como esta en la documentación (pdf adjuntado en el repositorio) Neural Prophet es un modelo de pronóstico un poco más avanzado.\n",
    "\n",
    "#### Series de tiempo\n",
    "\n",
    "Algo que resalta el autor es la importancia de tener personas más especializadas en pronosticar series de tiempo, especialmente si trabajamos en sectores como: planificación de infraestructura, asignación de presupuesto y gestión de la cadena de suministro. \n",
    "\n",
    "Hay modelos tradicionales que de seguramente conocerás si de causalidad has estado en el mundo del trading como la Auto-Regressive Integrated Moving Average (ARIMA), etc. Que si bien son útiles son más sencillo de entender, son escalable y requieren minimos ajustes para que funcione, también son muy limitados (o como lo llaman en la documentación \"poor forecasting performance\"). Ahora con el mundo de Machine learning tenemos la siguiente situación explicada de la forma más simple posible:\n",
    "\n",
    "\"Imagina que tienes una caja mágica que te ayuda a predecir cosas como el clima o cuántas galletas habrá en la jarra mañana. Al principio, esta caja no era muy buena para predecir y la gente pensaba que no era útil. Decían que era como una caja negra, porque no entendían cómo funcionaba por dentro.\n",
    "\n",
    "Pero luego, con la ayuda de muchas, muchas cifras y datos, esta caja se volvió mucho mejor en predecir cosas. Ahora, hay tantos datos que la caja puede aprender muy bien. Sin embargo, todavía es difícil entender cómo hace estas predicciones y a veces necesitas cambiar algunas cosas dentro de la caja para que funcione mejor.\n",
    "\n",
    "Así que, aunque la caja es muy buena ahora, todavía estamos tratando de entenderla mejor y hacerla aún mejor en predecir cosas.\" \n",
    "\n",
    "#### Hybrid models\n",
    "\n",
    "Lo que se busca entonces es combinar por un lado, utiliza métodos clásicos de series de tiempo para hacer pronósticos. Estos métodos clásicos se basan en el análisis de datos históricos para predecir el futuro. Por otro lado, también incorporar técnicas más modernas, como el uso de modelos probabilísticos y la automatización inteligente de procesos. A esto se le llama modelos híbridos.\n",
    "\n",
    "Uno de los primeros modelos que se menciona en la lectura es Facebook Prophet(Taylor & Letham, 2017), este modelo hace que la predicción de series de tiempo sea más fácil y accesible para mucha gente. Sin embargo, tiene algunas limitaciones. Por ejemplo, no siempre puede entender el contexto local o específico de donde estás haciendo la predicción. Esto significa que puede no ser tan preciso cuando intentas predecir cosas que sucederán muy pronto. Además, debido a cómo fue creado, es difícil agregar nuevas funciones o hacer cambios importantes en Prophet para adaptarlo mejor a ciertas situaciones.\n",
    "\n",
    "#### The NeuralProphet Model\n",
    "\n",
    "Este modelo hibrido es modular ¿Qué significa esto? Que contiene diferente modulos que aunque sean independientes todos hacen parte del modelo y tendrán un resultado pronosticado. Es decir, si estás intentando pronostica el clima de los próximos días y tienes entre tus modulos la temperatura, esta variable también será pronosticada para los próximos 5 días.\n",
    "\n",
    "La formula para este modelo es la siguiente:"
   ]
  },
  {
   "cell_type": "markdown",
   "metadata": {},
   "source": [
    "<img src=\"Formula.png\">"
   ]
  },
  {
   "cell_type": "markdown",
   "metadata": {},
   "source": [
    "Entendamos esto con un ejemplo: Imagina que quieres predecir algo, como las ventas de una tienda, para los próximos días. Esta fórmula te ayuda a hacer esa predicción.\n",
    "\n",
    "- \"T(t)\" es como una línea recta que muestra la dirección general de las ventas. Por ejemplo, si las ventas están subiendo o bajando con el tiempo.\n",
    "- \"S(t)\" son los efectos estacionales, como cuando las ventas suben en Navidad o bajan en verano.\n",
    "- \"E(t)\" son los efectos de eventos o días festivos, como si hay una promoción especial que afectará las ventas.\n",
    "- \"F(t)\" son los efectos de variables externas que conocemos para el futuro, como si sabemos que habrá un evento en la ciudad que afectará las ventas.\n",
    "- \"A(t)\" son los efectos de autoregresión, que significa que miramos cómo las ventas han sido en el pasado para predecir el futuro.\n",
    "- \"L(t)\" son los efectos de variables externas que miramos en el pasado, como si miramos cómo las ventas estaban hace un mes para predecir ahora.\n",
    "\n",
    "Entonces, cuando sumamos todas estas partes juntas, obtenemos nuestra predicción total, representada por \"y^t\". Eso nos da una idea de cómo podrían ser las ventas en los próximos días.\n",
    "\n",
    "Ahora, es importante mencionar que podemos ajustar y combinar estas partes del modelo según lo necesitemos. Por ejemplo, si solo queremos ver la tendencia general y no nos importan las estaciones o eventos, podemos apagar esas partes del modelo."
   ]
  }
 ],
 "metadata": {
  "language_info": {
   "name": "python"
  }
 },
 "nbformat": 4,
 "nbformat_minor": 2
}
